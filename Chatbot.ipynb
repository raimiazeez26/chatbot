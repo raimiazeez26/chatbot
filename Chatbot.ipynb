{
 "cells": [
  {
   "cell_type": "markdown",
   "metadata": {},
   "source": [
    "# ChatBot Using `ChatterBot`"
   ]
  },
  {
   "cell_type": "markdown",
   "metadata": {},
   "source": [
    "### What is a ChatBot ?\n",
    "\n",
    "A chatbot is an intelligent piece of software that is capable of communicating and performing actions similar to a human. Chatbots are used a lot in customer interaction, marketing on social network sites and instantly messaging the client. \n",
    "\n",
    "### Objective\n",
    "* Build a simple chat bot.\n",
    "* Build a GUI for interaction\n",
    "* Further develop and train the bot with real data"
   ]
  },
  {
   "cell_type": "markdown",
   "metadata": {},
   "source": [
    "### Installing `ChatterBot`"
   ]
  },
  {
   "cell_type": "code",
   "execution_count": 13,
   "metadata": {
    "collapsed": true
   },
   "outputs": [
    {
     "name": "stdout",
     "output_type": "stream",
     "text": [
      "Collecting git+git://github.com/gunthercox/ChatterBot.git@master\n",
      "  Cloning git://github.com/gunthercox/ChatterBot.git (to revision master) to /private/var/folders/xm/5ck74w0n1dxfrhfr9xhclj7c0000gn/T/pip-req-build-u75k5kqi\n",
      "  Running command git clone -q git://github.com/gunthercox/ChatterBot.git /private/var/folders/xm/5ck74w0n1dxfrhfr9xhclj7c0000gn/T/pip-req-build-u75k5kqi\n",
      "Collecting git+git://github.com/gunthercox/ChatterBot.git@master\n",
      "  Cloning git://github.com/gunthercox/ChatterBot.git (to revision master) to /private/var/folders/xm/5ck74w0n1dxfrhfr9xhclj7c0000gn/T/pip-req-build-u75k5kqi\n",
      "  Running command git clone -q git://github.com/gunthercox/ChatterBot.git /private/var/folders/xm/5ck74w0n1dxfrhfr9xhclj7c0000gn/T/pip-req-build-u75k5kqi\n",
      "Collecting git+git://github.com/gunthercox/ChatterBot.git@master\n",
      "  Cloning git://github.com/gunthercox/ChatterBot.git (to revision master) to /private/var/folders/xm/5ck74w0n1dxfrhfr9xhclj7c0000gn/T/pip-req-build-u75k5kqi\n",
      "  Running command git clone -q git://github.com/gunthercox/ChatterBot.git /private/var/folders/xm/5ck74w0n1dxfrhfr9xhclj7c0000gn/T/pip-req-build-u75k5kqi\n",
      "  Resolved git://github.com/gunthercox/ChatterBot.git to commit 4ff8af28567ed446ae796d37c246bb6a14032fe7\n",
      "  Resolved git://github.com/gunthercox/ChatterBot.git to commit 4ff8af28567ed446ae796d37c246bb6a14032fe7\n",
      "  Resolved git://github.com/gunthercox/ChatterBot.git to commit 4ff8af28567ed446ae796d37c246bb6a14032fe7\n",
      "Requirement already satisfied: mathparse<0.2,>=0.1 in /Users/user/opt/anaconda3/lib/python3.7/site-packages (from ChatterBot==1.1.0a7) (0.1.2)\n",
      "Requirement already satisfied: python-dateutil<2.9,>=2.8 in /Users/user/opt/anaconda3/lib/python3.7/site-packages (from ChatterBot==1.1.0a7) (2.8.0)\n",
      "Requirement already satisfied: sqlalchemy<1.4,>=1.3 in /Users/user/opt/anaconda3/lib/python3.7/site-packages (from ChatterBot==1.1.0a7) (1.3.9)\n",
      "Requirement already satisfied: pytz in /Users/user/opt/anaconda3/lib/python3.7/site-packages (from ChatterBot==1.1.0a7) (2019.3)\n",
      "Requirement already satisfied: mathparse<0.2,>=0.1 in /Users/user/opt/anaconda3/lib/python3.7/site-packages (from ChatterBot==1.1.0a7) (0.1.2)\n",
      "Requirement already satisfied: python-dateutil<2.9,>=2.8 in /Users/user/opt/anaconda3/lib/python3.7/site-packages (from ChatterBot==1.1.0a7) (2.8.0)\n",
      "Requirement already satisfied: sqlalchemy<1.4,>=1.3 in /Users/user/opt/anaconda3/lib/python3.7/site-packages (from ChatterBot==1.1.0a7) (1.3.9)\n",
      "Requirement already satisfied: pytz in /Users/user/opt/anaconda3/lib/python3.7/site-packages (from ChatterBot==1.1.0a7) (2019.3)\n",
      "Requirement already satisfied: mathparse<0.2,>=0.1 in /Users/user/opt/anaconda3/lib/python3.7/site-packages (from ChatterBot==1.1.0a7) (0.1.2)\n",
      "Requirement already satisfied: python-dateutil<2.9,>=2.8 in /Users/user/opt/anaconda3/lib/python3.7/site-packages (from ChatterBot==1.1.0a7) (2.8.0)\n",
      "Requirement already satisfied: sqlalchemy<1.4,>=1.3 in /Users/user/opt/anaconda3/lib/python3.7/site-packages (from ChatterBot==1.1.0a7) (1.3.9)\n",
      "Requirement already satisfied: pytz in /Users/user/opt/anaconda3/lib/python3.7/site-packages (from ChatterBot==1.1.0a7) (2019.3)\n",
      "Requirement already satisfied: six>=1.5 in /Users/user/opt/anaconda3/lib/python3.7/site-packages (from python-dateutil<2.9,>=2.8->ChatterBot==1.1.0a7) (1.12.0)\n",
      "Requirement already satisfied: six>=1.5 in /Users/user/opt/anaconda3/lib/python3.7/site-packages (from python-dateutil<2.9,>=2.8->ChatterBot==1.1.0a7) (1.12.0)\n",
      "Requirement already satisfied: six>=1.5 in /Users/user/opt/anaconda3/lib/python3.7/site-packages (from python-dateutil<2.9,>=2.8->ChatterBot==1.1.0a7) (1.12.0)\n",
      "Note: you may need to restart the kernel to use updated packages.\n",
      "Note: you may need to restart the kernel to use updated packages.\n",
      "Note: you may need to restart the kernel to use updated packages.\n"
     ]
    }
   ],
   "source": [
    "pip install git+git://github.com/gunthercox/ChatterBot.git@master"
   ]
  },
  {
   "cell_type": "code",
   "execution_count": 14,
   "metadata": {
    "collapsed": true
   },
   "outputs": [
    {
     "name": "stdout",
     "output_type": "stream",
     "text": [
      "Collecting chatterbot_corpus\n",
      "Collecting chatterbot_corpus\n",
      "Collecting chatterbot_corpus\n",
      "  Using cached chatterbot_corpus-1.2.0-py2.py3-none-any.whl (117 kB)\n",
      "  Using cached chatterbot_corpus-1.2.0-py2.py3-none-any.whl (117 kB)\n",
      "  Using cached chatterbot_corpus-1.2.0-py2.py3-none-any.whl (117 kB)\n",
      "Collecting PyYAML<4.0,>=3.12\n",
      "  Using cached PyYAML-3.13-cp37-cp37m-macosx_10_9_x86_64.whl\n",
      "Collecting PyYAML<4.0,>=3.12\n",
      "  Using cached PyYAML-3.13-cp37-cp37m-macosx_10_9_x86_64.whl\n",
      "Collecting PyYAML<4.0,>=3.12\n",
      "  Using cached PyYAML-3.13-cp37-cp37m-macosx_10_9_x86_64.whl\n",
      "Installing collected packages: PyYAML, chatterbot-corpus\n",
      "  Attempting uninstall: PyYAML\n",
      "    Found existing installation: PyYAML 5.1.2\n",
      "\u001b[31mERROR: Cannot uninstall 'PyYAML'. It is a distutils installed project and thus we cannot accurately determine which files belong to it which would lead to only a partial uninstall.\u001b[0m\n",
      "Installing collected packages: PyYAML, chatterbot-corpus\n",
      "  Attempting uninstall: PyYAML\n",
      "    Found existing installation: PyYAML 5.1.2\n",
      "\u001b[31mERROR: Cannot uninstall 'PyYAML'. It is a distutils installed project and thus we cannot accurately determine which files belong to it which would lead to only a partial uninstall.\u001b[0m\n",
      "Installing collected packages: PyYAML, chatterbot-corpus\n",
      "  Attempting uninstall: PyYAML\n",
      "    Found existing installation: PyYAML 5.1.2\n",
      "\u001b[31mERROR: Cannot uninstall 'PyYAML'. It is a distutils installed project and thus we cannot accurately determine which files belong to it which would lead to only a partial uninstall.\u001b[0m\n",
      "Note: you may need to restart the kernel to use updated packages.\n",
      "Note: you may need to restart the kernel to use updated packages.\n",
      "Note: you may need to restart the kernel to use updated packages.\n"
     ]
    }
   ],
   "source": [
    "pip install chatterbot_corpus"
   ]
  },
  {
   "cell_type": "code",
   "execution_count": 5,
   "metadata": {
    "collapsed": true
   },
   "outputs": [
    {
     "name": "stdout",
     "output_type": "stream",
     "text": [
      "Requirement already satisfied: chatterbot in /Users/user/opt/anaconda3/lib/python3.7/site-packages (1.1.0a7)\n",
      "Requirement already satisfied: chatterbot in /Users/user/opt/anaconda3/lib/python3.7/site-packages (1.1.0a7)\n",
      "Requirement already satisfied: python-dateutil<2.9,>=2.8 in /Users/user/opt/anaconda3/lib/python3.7/site-packages (from chatterbot) (2.8.0)\n",
      "Requirement already satisfied: sqlalchemy<1.4,>=1.3 in /Users/user/opt/anaconda3/lib/python3.7/site-packages (from chatterbot) (1.3.9)\n",
      "Requirement already satisfied: mathparse<0.2,>=0.1 in /Users/user/opt/anaconda3/lib/python3.7/site-packages (from chatterbot) (0.1.2)\n",
      "Requirement already satisfied: pytz in /Users/user/opt/anaconda3/lib/python3.7/site-packages (from chatterbot) (2019.3)\n",
      "Requirement already satisfied: six>=1.5 in /Users/user/opt/anaconda3/lib/python3.7/site-packages (from python-dateutil<2.9,>=2.8->chatterbot) (1.12.0)\n",
      "Requirement already satisfied: python-dateutil<2.9,>=2.8 in /Users/user/opt/anaconda3/lib/python3.7/site-packages (from chatterbot) (2.8.0)\n",
      "Requirement already satisfied: sqlalchemy<1.4,>=1.3 in /Users/user/opt/anaconda3/lib/python3.7/site-packages (from chatterbot) (1.3.9)\n",
      "Requirement already satisfied: mathparse<0.2,>=0.1 in /Users/user/opt/anaconda3/lib/python3.7/site-packages (from chatterbot) (0.1.2)\n",
      "Requirement already satisfied: pytz in /Users/user/opt/anaconda3/lib/python3.7/site-packages (from chatterbot) (2019.3)\n",
      "Requirement already satisfied: six>=1.5 in /Users/user/opt/anaconda3/lib/python3.7/site-packages (from python-dateutil<2.9,>=2.8->chatterbot) (1.12.0)\n",
      "Note: you may need to restart the kernel to use updated packages.\n",
      "Note: you may need to restart the kernel to use updated packages.\n"
     ]
    }
   ],
   "source": [
    "pip install chatterbot --upgrade"
   ]
  },
  {
   "cell_type": "code",
   "execution_count": 15,
   "metadata": {
    "collapsed": true
   },
   "outputs": [
    {
     "name": "stdout",
     "output_type": "stream",
     "text": [
      "Requirement already satisfied: spacy in /Users/user/opt/anaconda3/lib/python3.7/site-packages (3.1.2)\n",
      "Requirement already satisfied: spacy in /Users/user/opt/anaconda3/lib/python3.7/site-packages (3.1.2)\n",
      "Requirement already satisfied: spacy in /Users/user/opt/anaconda3/lib/python3.7/site-packages (3.1.2)\n",
      "Requirement already satisfied: setuptools in /Users/user/opt/anaconda3/lib/python3.7/site-packages (from spacy) (41.4.0)\n",
      "Requirement already satisfied: thinc<8.1.0,>=8.0.8 in /Users/user/opt/anaconda3/lib/python3.7/site-packages (from spacy) (8.0.8)\n",
      "Requirement already satisfied: typer<0.4.0,>=0.3.0 in /Users/user/opt/anaconda3/lib/python3.7/site-packages (from spacy) (0.3.2)\n",
      "Requirement already satisfied: wasabi<1.1.0,>=0.8.1 in /Users/user/opt/anaconda3/lib/python3.7/site-packages (from spacy) (0.8.2)\n",
      "Requirement already satisfied: cymem<2.1.0,>=2.0.2 in /Users/user/opt/anaconda3/lib/python3.7/site-packages (from spacy) (2.0.5)\n",
      "Requirement already satisfied: packaging>=20.0 in /Users/user/opt/anaconda3/lib/python3.7/site-packages (from spacy) (21.0)\n",
      "Requirement already satisfied: requests<3.0.0,>=2.13.0 in /Users/user/opt/anaconda3/lib/python3.7/site-packages (from spacy) (2.22.0)\n",
      "Requirement already satisfied: spacy-legacy<3.1.0,>=3.0.7 in /Users/user/opt/anaconda3/lib/python3.7/site-packages (from spacy) (3.0.8)\n",
      "Requirement already satisfied: srsly<3.0.0,>=2.4.1 in /Users/user/opt/anaconda3/lib/python3.7/site-packages (from spacy) (2.4.1)\n",
      "Requirement already satisfied: typing-extensions<4.0.0.0,>=3.7.4 in /Users/user/opt/anaconda3/lib/python3.7/site-packages (from spacy) (3.10.0.2)\n",
      "Requirement already satisfied: catalogue<2.1.0,>=2.0.4 in /Users/user/opt/anaconda3/lib/python3.7/site-packages (from spacy) (2.0.6)\n",
      "Requirement already satisfied: tqdm<5.0.0,>=4.38.0 in /Users/user/opt/anaconda3/lib/python3.7/site-packages (from spacy) (4.62.2)\n",
      "Requirement already satisfied: pydantic!=1.8,!=1.8.1,<1.9.0,>=1.7.4 in /Users/user/opt/anaconda3/lib/python3.7/site-packages (from spacy) (1.8.2)\n",
      "Requirement already satisfied: setuptools in /Users/user/opt/anaconda3/lib/python3.7/site-packages (from spacy) (41.4.0)\n",
      "Requirement already satisfied: thinc<8.1.0,>=8.0.8 in /Users/user/opt/anaconda3/lib/python3.7/site-packages (from spacy) (8.0.8)\n",
      "Requirement already satisfied: typer<0.4.0,>=0.3.0 in /Users/user/opt/anaconda3/lib/python3.7/site-packages (from spacy) (0.3.2)\n",
      "Requirement already satisfied: wasabi<1.1.0,>=0.8.1 in /Users/user/opt/anaconda3/lib/python3.7/site-packages (from spacy) (0.8.2)\n",
      "Requirement already satisfied: cymem<2.1.0,>=2.0.2 in /Users/user/opt/anaconda3/lib/python3.7/site-packages (from spacy) (2.0.5)\n",
      "Requirement already satisfied: packaging>=20.0 in /Users/user/opt/anaconda3/lib/python3.7/site-packages (from spacy) (21.0)\n",
      "Requirement already satisfied: requests<3.0.0,>=2.13.0 in /Users/user/opt/anaconda3/lib/python3.7/site-packages (from spacy) (2.22.0)\n",
      "Requirement already satisfied: spacy-legacy<3.1.0,>=3.0.7 in /Users/user/opt/anaconda3/lib/python3.7/site-packages (from spacy) (3.0.8)\n",
      "Requirement already satisfied: srsly<3.0.0,>=2.4.1 in /Users/user/opt/anaconda3/lib/python3.7/site-packages (from spacy) (2.4.1)\n",
      "Requirement already satisfied: typing-extensions<4.0.0.0,>=3.7.4 in /Users/user/opt/anaconda3/lib/python3.7/site-packages (from spacy) (3.10.0.2)\n",
      "Requirement already satisfied: catalogue<2.1.0,>=2.0.4 in /Users/user/opt/anaconda3/lib/python3.7/site-packages (from spacy) (2.0.6)\n",
      "Requirement already satisfied: tqdm<5.0.0,>=4.38.0 in /Users/user/opt/anaconda3/lib/python3.7/site-packages (from spacy) (4.62.2)\n",
      "Requirement already satisfied: pydantic!=1.8,!=1.8.1,<1.9.0,>=1.7.4 in /Users/user/opt/anaconda3/lib/python3.7/site-packages (from spacy) (1.8.2)\n",
      "Requirement already satisfied: setuptools in /Users/user/opt/anaconda3/lib/python3.7/site-packages (from spacy) (41.4.0)\n",
      "Requirement already satisfied: thinc<8.1.0,>=8.0.8 in /Users/user/opt/anaconda3/lib/python3.7/site-packages (from spacy) (8.0.8)\n",
      "Requirement already satisfied: typer<0.4.0,>=0.3.0 in /Users/user/opt/anaconda3/lib/python3.7/site-packages (from spacy) (0.3.2)\n",
      "Requirement already satisfied: wasabi<1.1.0,>=0.8.1 in /Users/user/opt/anaconda3/lib/python3.7/site-packages (from spacy) (0.8.2)\n",
      "Requirement already satisfied: cymem<2.1.0,>=2.0.2 in /Users/user/opt/anaconda3/lib/python3.7/site-packages (from spacy) (2.0.5)\n",
      "Requirement already satisfied: packaging>=20.0 in /Users/user/opt/anaconda3/lib/python3.7/site-packages (from spacy) (21.0)\n",
      "Requirement already satisfied: requests<3.0.0,>=2.13.0 in /Users/user/opt/anaconda3/lib/python3.7/site-packages (from spacy) (2.22.0)\n",
      "Requirement already satisfied: spacy-legacy<3.1.0,>=3.0.7 in /Users/user/opt/anaconda3/lib/python3.7/site-packages (from spacy) (3.0.8)\n",
      "Requirement already satisfied: srsly<3.0.0,>=2.4.1 in /Users/user/opt/anaconda3/lib/python3.7/site-packages (from spacy) (2.4.1)\n",
      "Requirement already satisfied: typing-extensions<4.0.0.0,>=3.7.4 in /Users/user/opt/anaconda3/lib/python3.7/site-packages (from spacy) (3.10.0.2)\n",
      "Requirement already satisfied: catalogue<2.1.0,>=2.0.4 in /Users/user/opt/anaconda3/lib/python3.7/site-packages (from spacy) (2.0.6)\n",
      "Requirement already satisfied: tqdm<5.0.0,>=4.38.0 in /Users/user/opt/anaconda3/lib/python3.7/site-packages (from spacy) (4.62.2)\n",
      "Requirement already satisfied: pydantic!=1.8,!=1.8.1,<1.9.0,>=1.7.4 in /Users/user/opt/anaconda3/lib/python3.7/site-packages (from spacy) (1.8.2)\n",
      "Requirement already satisfied: jinja2 in /Users/user/opt/anaconda3/lib/python3.7/site-packages (from spacy) (2.10.3)\n",
      "Requirement already satisfied: murmurhash<1.1.0,>=0.28.0 in /Users/user/opt/anaconda3/lib/python3.7/site-packages (from spacy) (1.0.5)\n",
      "Requirement already satisfied: blis<0.8.0,>=0.4.0 in /Users/user/opt/anaconda3/lib/python3.7/site-packages (from spacy) (0.7.4)\n",
      "Requirement already satisfied: pathy>=0.3.5 in /Users/user/opt/anaconda3/lib/python3.7/site-packages (from spacy) (0.6.0)\n",
      "Requirement already satisfied: numpy>=1.15.0 in /Users/user/opt/anaconda3/lib/python3.7/site-packages (from spacy) (1.17.2)\n",
      "Requirement already satisfied: preshed<3.1.0,>=3.0.2 in /Users/user/opt/anaconda3/lib/python3.7/site-packages (from spacy) (3.0.5)\n",
      "Requirement already satisfied: zipp>=0.5 in /Users/user/opt/anaconda3/lib/python3.7/site-packages (from catalogue<2.1.0,>=2.0.4->spacy) (0.6.0)\n",
      "Requirement already satisfied: jinja2 in /Users/user/opt/anaconda3/lib/python3.7/site-packages (from spacy) (2.10.3)\n",
      "Requirement already satisfied: murmurhash<1.1.0,>=0.28.0 in /Users/user/opt/anaconda3/lib/python3.7/site-packages (from spacy) (1.0.5)\n",
      "Requirement already satisfied: blis<0.8.0,>=0.4.0 in /Users/user/opt/anaconda3/lib/python3.7/site-packages (from spacy) (0.7.4)\n",
      "Requirement already satisfied: pathy>=0.3.5 in /Users/user/opt/anaconda3/lib/python3.7/site-packages (from spacy) (0.6.0)\n",
      "Requirement already satisfied: numpy>=1.15.0 in /Users/user/opt/anaconda3/lib/python3.7/site-packages (from spacy) (1.17.2)\n",
      "Requirement already satisfied: preshed<3.1.0,>=3.0.2 in /Users/user/opt/anaconda3/lib/python3.7/site-packages (from spacy) (3.0.5)\n",
      "Requirement already satisfied: zipp>=0.5 in /Users/user/opt/anaconda3/lib/python3.7/site-packages (from catalogue<2.1.0,>=2.0.4->spacy) (0.6.0)\n",
      "Requirement already satisfied: jinja2 in /Users/user/opt/anaconda3/lib/python3.7/site-packages (from spacy) (2.10.3)\n",
      "Requirement already satisfied: murmurhash<1.1.0,>=0.28.0 in /Users/user/opt/anaconda3/lib/python3.7/site-packages (from spacy) (1.0.5)\n",
      "Requirement already satisfied: blis<0.8.0,>=0.4.0 in /Users/user/opt/anaconda3/lib/python3.7/site-packages (from spacy) (0.7.4)\n",
      "Requirement already satisfied: pathy>=0.3.5 in /Users/user/opt/anaconda3/lib/python3.7/site-packages (from spacy) (0.6.0)\n",
      "Requirement already satisfied: numpy>=1.15.0 in /Users/user/opt/anaconda3/lib/python3.7/site-packages (from spacy) (1.17.2)\n",
      "Requirement already satisfied: preshed<3.1.0,>=3.0.2 in /Users/user/opt/anaconda3/lib/python3.7/site-packages (from spacy) (3.0.5)\n",
      "Requirement already satisfied: zipp>=0.5 in /Users/user/opt/anaconda3/lib/python3.7/site-packages (from catalogue<2.1.0,>=2.0.4->spacy) (0.6.0)\n",
      "Requirement already satisfied: pyparsing>=2.0.2 in /Users/user/opt/anaconda3/lib/python3.7/site-packages (from packaging>=20.0->spacy) (2.4.2)\n"
     ]
    },
    {
     "name": "stdout",
     "output_type": "stream",
     "text": [
      "Requirement already satisfied: pyparsing>=2.0.2 in /Users/user/opt/anaconda3/lib/python3.7/site-packages (from packaging>=20.0->spacy) (2.4.2)\n",
      "Requirement already satisfied: pyparsing>=2.0.2 in /Users/user/opt/anaconda3/lib/python3.7/site-packages (from packaging>=20.0->spacy) (2.4.2)\n",
      "Requirement already satisfied: smart-open<6.0.0,>=5.0.0 in /Users/user/opt/anaconda3/lib/python3.7/site-packages (from pathy>=0.3.5->spacy) (5.2.1)\n",
      "Requirement already satisfied: smart-open<6.0.0,>=5.0.0 in /Users/user/opt/anaconda3/lib/python3.7/site-packages (from pathy>=0.3.5->spacy) (5.2.1)\n",
      "Requirement already satisfied: smart-open<6.0.0,>=5.0.0 in /Users/user/opt/anaconda3/lib/python3.7/site-packages (from pathy>=0.3.5->spacy) (5.2.1)\n",
      "Requirement already satisfied: certifi>=2017.4.17 in /Users/user/opt/anaconda3/lib/python3.7/site-packages (from requests<3.0.0,>=2.13.0->spacy) (2019.9.11)\n",
      "Requirement already satisfied: idna<2.9,>=2.5 in /Users/user/opt/anaconda3/lib/python3.7/site-packages (from requests<3.0.0,>=2.13.0->spacy) (2.8)\n",
      "Requirement already satisfied: urllib3!=1.25.0,!=1.25.1,<1.26,>=1.21.1 in /Users/user/opt/anaconda3/lib/python3.7/site-packages (from requests<3.0.0,>=2.13.0->spacy) (1.24.2)\n",
      "Requirement already satisfied: chardet<3.1.0,>=3.0.2 in /Users/user/opt/anaconda3/lib/python3.7/site-packages (from requests<3.0.0,>=2.13.0->spacy) (3.0.4)\n",
      "Requirement already satisfied: certifi>=2017.4.17 in /Users/user/opt/anaconda3/lib/python3.7/site-packages (from requests<3.0.0,>=2.13.0->spacy) (2019.9.11)\n",
      "Requirement already satisfied: idna<2.9,>=2.5 in /Users/user/opt/anaconda3/lib/python3.7/site-packages (from requests<3.0.0,>=2.13.0->spacy) (2.8)\n",
      "Requirement already satisfied: urllib3!=1.25.0,!=1.25.1,<1.26,>=1.21.1 in /Users/user/opt/anaconda3/lib/python3.7/site-packages (from requests<3.0.0,>=2.13.0->spacy) (1.24.2)\n",
      "Requirement already satisfied: chardet<3.1.0,>=3.0.2 in /Users/user/opt/anaconda3/lib/python3.7/site-packages (from requests<3.0.0,>=2.13.0->spacy) (3.0.4)\n",
      "Requirement already satisfied: certifi>=2017.4.17 in /Users/user/opt/anaconda3/lib/python3.7/site-packages (from requests<3.0.0,>=2.13.0->spacy) (2019.9.11)\n",
      "Requirement already satisfied: idna<2.9,>=2.5 in /Users/user/opt/anaconda3/lib/python3.7/site-packages (from requests<3.0.0,>=2.13.0->spacy) (2.8)\n",
      "Requirement already satisfied: urllib3!=1.25.0,!=1.25.1,<1.26,>=1.21.1 in /Users/user/opt/anaconda3/lib/python3.7/site-packages (from requests<3.0.0,>=2.13.0->spacy) (1.24.2)\n",
      "Requirement already satisfied: chardet<3.1.0,>=3.0.2 in /Users/user/opt/anaconda3/lib/python3.7/site-packages (from requests<3.0.0,>=2.13.0->spacy) (3.0.4)\n",
      "Requirement already satisfied: click<7.2.0,>=7.1.1 in /Users/user/opt/anaconda3/lib/python3.7/site-packages (from typer<0.4.0,>=0.3.0->spacy) (7.1.2)\n",
      "Requirement already satisfied: click<7.2.0,>=7.1.1 in /Users/user/opt/anaconda3/lib/python3.7/site-packages (from typer<0.4.0,>=0.3.0->spacy) (7.1.2)\n",
      "Requirement already satisfied: click<7.2.0,>=7.1.1 in /Users/user/opt/anaconda3/lib/python3.7/site-packages (from typer<0.4.0,>=0.3.0->spacy) (7.1.2)\n",
      "Requirement already satisfied: more-itertools in /Users/user/opt/anaconda3/lib/python3.7/site-packages (from zipp>=0.5->catalogue<2.1.0,>=2.0.4->spacy) (7.2.0)\n",
      "Requirement already satisfied: MarkupSafe>=0.23 in /Users/user/opt/anaconda3/lib/python3.7/site-packages (from jinja2->spacy) (1.1.1)\n",
      "Requirement already satisfied: more-itertools in /Users/user/opt/anaconda3/lib/python3.7/site-packages (from zipp>=0.5->catalogue<2.1.0,>=2.0.4->spacy) (7.2.0)\n",
      "Requirement already satisfied: MarkupSafe>=0.23 in /Users/user/opt/anaconda3/lib/python3.7/site-packages (from jinja2->spacy) (1.1.1)\n",
      "Requirement already satisfied: more-itertools in /Users/user/opt/anaconda3/lib/python3.7/site-packages (from zipp>=0.5->catalogue<2.1.0,>=2.0.4->spacy) (7.2.0)\n",
      "Requirement already satisfied: MarkupSafe>=0.23 in /Users/user/opt/anaconda3/lib/python3.7/site-packages (from jinja2->spacy) (1.1.1)\n",
      "Note: you may need to restart the kernel to use updated packages.\n",
      "Note: you may need to restart the kernel to use updated packages.\n",
      "Note: you may need to restart the kernel to use updated packages.\n"
     ]
    }
   ],
   "source": [
    "pip install spacy"
   ]
  },
  {
   "cell_type": "code",
   "execution_count": 20,
   "metadata": {},
   "outputs": [],
   "source": [
    "#Import Classes\n",
    "\n",
    "from chatterbot import ChatBot\n",
    "from chatterbot.trainers import ListTrainer"
   ]
  },
  {
   "cell_type": "markdown",
   "metadata": {},
   "source": [
    "# Create Bot"
   ]
  },
  {
   "cell_type": "code",
   "execution_count": 43,
   "metadata": {},
   "outputs": [],
   "source": [
    "my_bot = ChatBot(name = \"MH_bot\", read_only = True, \n",
    "                 logic_adapters = [\"chatterbot.logic.BestMatch\",\n",
    "                     \"chatterbot.logic.MathematicalEvaluation\"])\n",
    "                                    \n",
    "    #\"chatterbot.logic.TimeLogicAdapter\"\n",
    "    #{\"import_path\": \"chatterbot.logic.BestMatch\",\n",
    "            #\"statement_comparison_function\": chatterbot.comparisons.LevenshteinDistance,\n",
    "            #\"response_selection_method\": chatterbot.response_selection.get_first_response},\n",
    "\n"
   ]
  },
  {
   "cell_type": "markdown",
   "metadata": {},
   "source": [
    "# Train Bot"
   ]
  },
  {
   "cell_type": "markdown",
   "metadata": {},
   "source": [
    "### Train using `List Trainer`"
   ]
  },
  {
   "cell_type": "code",
   "execution_count": 44,
   "metadata": {},
   "outputs": [
    {
     "name": "stdout",
     "output_type": "stream",
     "text": [
      "List Trainer: [####################] 100%\n",
      "\n",
      "\n",
      "List Trainer: [####################] 100%\n",
      "\n",
      "\n",
      "List Trainer: [####################] 100%\n",
      "\n",
      "\n"
     ]
    }
   ],
   "source": [
    "small_talk = ['hi there!',\n",
    "              'hi!',\n",
    "              'how do you do?',\n",
    "              'how are you?',\n",
    "              'i\\'m cool.',\n",
    "              'fine, you?',\n",
    "              'always cool.',\n",
    "              'i\\'m ok',\n",
    "              'glad to hear that.',\n",
    "              'i\\'m fine',\n",
    "              'glad to hear that.',\n",
    "              'i feel awesome',\n",
    "              'excellent, glad to hear that.',\n",
    "              'not so good',\n",
    "              'sorry to hear that.',\n",
    "              'what\\'s your name?',\n",
    "              'i\\'m pybot. ask me a math question, please.']\n",
    "math_talk_1 = ['pythagorean theorem',\n",
    "               'a squared plus b squared equals c squared.']\n",
    "math_talk_2 = ['law of cosines',\n",
    "               'c**2 = a**2 + b**2 - 2 * a * b * cos(gamma)']\n",
    "\n",
    "list_trainer = ListTrainer(my_bot)\n",
    "for item in (small_talk, math_talk_1, math_talk_2):\n",
    "    list_trainer.train(item)"
   ]
  },
  {
   "cell_type": "markdown",
   "metadata": {},
   "source": [
    "### Train using `Corpus_Trainer`"
   ]
  },
  {
   "cell_type": "code",
   "execution_count": 27,
   "metadata": {},
   "outputs": [],
   "source": [
    "from chatterbot.trainers import ChatterBotCorpusTrainer\n"
   ]
  },
  {
   "cell_type": "code",
   "execution_count": 46,
   "metadata": {},
   "outputs": [
    {
     "name": "stdout",
     "output_type": "stream",
     "text": [
      "Training ai.yml: [####################] 100%\n",
      "\n",
      "\n",
      "Training botprofile.yml: [####################] 100%\n",
      "\n",
      "\n",
      "Training computers.yml: [####################] 100%\n",
      "\n",
      "\n",
      "Training conversations.yml: [####################] 100%\n",
      "\n",
      "\n",
      "Training emotion.yml: [####################] 100%\n",
      "\n",
      "\n",
      "Training food.yml: [####################] 100%\n",
      "\n",
      "\n",
      "Training gossip.yml: [####################] 100%\n",
      "\n",
      "\n",
      "Training greetings.yml: [####################] 100%\n",
      "\n",
      "Training greetings.yml: [####################] 100%\n",
      "Training health.yml: [####################] 100%\n",
      "\n",
      "\n",
      "Training history.yml: [####################] 100%\n",
      "\n",
      "\n",
      "Training humor.yml: [####################] 100%\n",
      "\n",
      "\n",
      "Training literature.yml: [####################] 100%\n",
      "\n",
      "\n",
      "Training money.yml: [####################] 100%\n",
      "\n",
      "\n",
      "Training movies.yml: [####################] 100%\n",
      "\n",
      "\n",
      "Training politics.yml: [####################] 100%\n",
      "\n",
      "\n",
      "Training psychology.yml: [####################] 100%\n",
      "\n",
      "\n",
      "Training science.yml: [####################] 100%\n",
      "\n",
      "\n",
      "Training sports.yml: [####################] 100%\n",
      "\n",
      "\n",
      "Training trivia.yml: [####################] 100%\n",
      "\n",
      "\n"
     ]
    }
   ],
   "source": [
    "corpus_trainer = ChatterBotCorpusTrainer(my_bot)\n",
    "corpus_trainer.train('chatterbot.corpus.english')"
   ]
  },
  {
   "cell_type": "markdown",
   "metadata": {},
   "source": [
    "### Interact With Bot"
   ]
  },
  {
   "cell_type": "code",
   "execution_count": 45,
   "metadata": {},
   "outputs": [
    {
     "name": "stdout",
     "output_type": "stream",
     "text": [
      "Hi, how can I help you:\n",
      "hello\n",
      "Bot : Hi\n",
      "Bot : Hi\n",
      "Bot : Hi\n",
      "Hi, how can I help you:\n",
      "how are you\n",
      "Bot : i'm cool.\n",
      "Bot : i'm cool.\n",
      "Bot : i'm cool.\n",
      "Hi, how can I help you:\n",
      "what is your name\n",
      "Bot : I am still young by your standards.\n",
      "Bot : I am still young by your standards.\n",
      "Bot : I am still young by your standards.\n",
      "Hi, how can I help you:\n",
      "how old are you\n",
      "Bot : i'm cool.\n",
      "Bot : i'm cool.\n",
      "Bot : i'm cool.\n",
      "Hi, how can I help you:\n",
      "Bye\n",
      "Bot : buy low and sell high.\n",
      "Bot : buy low and sell high.\n",
      "Bot : buy low and sell high.\n"
     ]
    }
   ],
   "source": [
    "while user_input != \"Bye\" :\n",
    "    user_input = input(\"Hi, how can I help you:\\n\")    \n",
    "    response = my_bot.get_response(user_input)\n",
    "    print(\"Bot :\", response)"
   ]
  },
  {
   "cell_type": "code",
   "execution_count": 41,
   "metadata": {},
   "outputs": [
    {
     "name": "stdout",
     "output_type": "stream",
     "text": [
      "Hi, how can I help you:\n",
      "Hello\n",
      "Bot : Hi\n",
      "Bot : Hi\n",
      "Bot : Hi\n"
     ]
    }
   ],
   "source": [
    "user_input = input(\"Hi, how can I help you:\\n\")    \n",
    "response = my_bot.get_response(user_input)\n",
    "print(\"Bot :\", response)"
   ]
  },
  {
   "cell_type": "code",
   "execution_count": 42,
   "metadata": {},
   "outputs": [
    {
     "name": "stdout",
     "output_type": "stream",
     "text": [
      "How are you doing?\n",
      "How are you doing?\n",
      "How are you doing?\n"
     ]
    }
   ],
   "source": [
    "print(my_bot.get_response(\"hi\"))\n"
   ]
  },
  {
   "cell_type": "code",
   "execution_count": null,
   "metadata": {},
   "outputs": [],
   "source": []
  }
 ],
 "metadata": {
  "kernelspec": {
   "display_name": "Python 3",
   "language": "python",
   "name": "python3"
  },
  "language_info": {
   "codemirror_mode": {
    "name": "ipython",
    "version": 3
   },
   "file_extension": ".py",
   "mimetype": "text/x-python",
   "name": "python",
   "nbconvert_exporter": "python",
   "pygments_lexer": "ipython3",
   "version": "3.7.4"
  },
  "latex_envs": {
   "LaTeX_envs_menu_present": true,
   "autoclose": false,
   "autocomplete": true,
   "bibliofile": "biblio.bib",
   "cite_by": "apalike",
   "current_citInitial": 1,
   "eqLabelWithNumbers": true,
   "eqNumInitial": 1,
   "hotkeys": {
    "equation": "Ctrl-E",
    "itemize": "Ctrl-I"
   },
   "labels_anchors": false,
   "latex_user_defs": false,
   "report_style_numbering": false,
   "user_envs_cfg": false
  }
 },
 "nbformat": 4,
 "nbformat_minor": 2
}
